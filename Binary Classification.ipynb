{
 "cells": [
  {
   "cell_type": "code",
   "execution_count": 1,
   "metadata": {},
   "outputs": [],
   "source": [
    "import matplotlib\n",
    "import numpy as np\n",
    "import pandas as pd\n",
    "import matplotlib.pyplot as plt\n",
    "from sklearn.linear_model import LinearRegression as lm\n"
   ]
  },
  {
   "cell_type": "code",
   "execution_count": 7,
   "metadata": {},
   "outputs": [
    {
     "data": {
      "text/html": [
       "<div>\n",
       "<style scoped>\n",
       "    .dataframe tbody tr th:only-of-type {\n",
       "        vertical-align: middle;\n",
       "    }\n",
       "\n",
       "    .dataframe tbody tr th {\n",
       "        vertical-align: top;\n",
       "    }\n",
       "\n",
       "    .dataframe thead th {\n",
       "        text-align: right;\n",
       "    }\n",
       "</style>\n",
       "<table border=\"1\" class=\"dataframe\">\n",
       "  <thead>\n",
       "    <tr style=\"text-align: right;\">\n",
       "      <th></th>\n",
       "      <th>variable1</th>\n",
       "      <th>variable2</th>\n",
       "      <th>variable3</th>\n",
       "      <th>variable4</th>\n",
       "      <th>variable5</th>\n",
       "      <th>variable6</th>\n",
       "      <th>variable7</th>\n",
       "      <th>variable8</th>\n",
       "      <th>variable9</th>\n",
       "      <th>variable10</th>\n",
       "      <th>variable11</th>\n",
       "      <th>variable12</th>\n",
       "      <th>variable13</th>\n",
       "      <th>variable14</th>\n",
       "      <th>variable15</th>\n",
       "      <th>variable17</th>\n",
       "      <th>variable18</th>\n",
       "      <th>variable19</th>\n",
       "      <th>classLabel</th>\n",
       "    </tr>\n",
       "  </thead>\n",
       "  <tbody>\n",
       "    <tr>\n",
       "      <th>0</th>\n",
       "      <td>a</td>\n",
       "      <td>17.92</td>\n",
       "      <td>0.000054</td>\n",
       "      <td>u</td>\n",
       "      <td>g</td>\n",
       "      <td>c</td>\n",
       "      <td>v</td>\n",
       "      <td>1.750</td>\n",
       "      <td>f</td>\n",
       "      <td>t</td>\n",
       "      <td>1</td>\n",
       "      <td>t</td>\n",
       "      <td>g</td>\n",
       "      <td>80.0</td>\n",
       "      <td>5</td>\n",
       "      <td>800000.0</td>\n",
       "      <td>t</td>\n",
       "      <td>0</td>\n",
       "      <td>no.</td>\n",
       "    </tr>\n",
       "    <tr>\n",
       "      <th>1</th>\n",
       "      <td>b</td>\n",
       "      <td>16.92</td>\n",
       "      <td>0.000034</td>\n",
       "      <td>y</td>\n",
       "      <td>p</td>\n",
       "      <td>k</td>\n",
       "      <td>v</td>\n",
       "      <td>0.290</td>\n",
       "      <td>f</td>\n",
       "      <td>f</td>\n",
       "      <td>0</td>\n",
       "      <td>f</td>\n",
       "      <td>s</td>\n",
       "      <td>200.0</td>\n",
       "      <td>0</td>\n",
       "      <td>2000000.0</td>\n",
       "      <td>NaN</td>\n",
       "      <td>0</td>\n",
       "      <td>no.</td>\n",
       "    </tr>\n",
       "    <tr>\n",
       "      <th>2</th>\n",
       "      <td>b</td>\n",
       "      <td>31.25</td>\n",
       "      <td>0.000112</td>\n",
       "      <td>u</td>\n",
       "      <td>g</td>\n",
       "      <td>ff</td>\n",
       "      <td>ff</td>\n",
       "      <td>0.000</td>\n",
       "      <td>f</td>\n",
       "      <td>t</td>\n",
       "      <td>1</td>\n",
       "      <td>f</td>\n",
       "      <td>g</td>\n",
       "      <td>96.0</td>\n",
       "      <td>19</td>\n",
       "      <td>960000.0</td>\n",
       "      <td>t</td>\n",
       "      <td>0</td>\n",
       "      <td>no.</td>\n",
       "    </tr>\n",
       "    <tr>\n",
       "      <th>3</th>\n",
       "      <td>a</td>\n",
       "      <td>48.17</td>\n",
       "      <td>0.000133</td>\n",
       "      <td>u</td>\n",
       "      <td>g</td>\n",
       "      <td>i</td>\n",
       "      <td>o</td>\n",
       "      <td>0.335</td>\n",
       "      <td>f</td>\n",
       "      <td>f</td>\n",
       "      <td>0</td>\n",
       "      <td>f</td>\n",
       "      <td>g</td>\n",
       "      <td>0.0</td>\n",
       "      <td>120</td>\n",
       "      <td>0.0</td>\n",
       "      <td>NaN</td>\n",
       "      <td>0</td>\n",
       "      <td>no.</td>\n",
       "    </tr>\n",
       "    <tr>\n",
       "      <th>4</th>\n",
       "      <td>b</td>\n",
       "      <td>32.33</td>\n",
       "      <td>0.000350</td>\n",
       "      <td>u</td>\n",
       "      <td>g</td>\n",
       "      <td>k</td>\n",
       "      <td>v</td>\n",
       "      <td>0.500</td>\n",
       "      <td>f</td>\n",
       "      <td>f</td>\n",
       "      <td>0</td>\n",
       "      <td>t</td>\n",
       "      <td>g</td>\n",
       "      <td>232.0</td>\n",
       "      <td>0</td>\n",
       "      <td>2320000.0</td>\n",
       "      <td>f</td>\n",
       "      <td>0</td>\n",
       "      <td>no.</td>\n",
       "    </tr>\n",
       "  </tbody>\n",
       "</table>\n",
       "</div>"
      ],
      "text/plain": [
       "  variable1  variable2  variable3 variable4 variable5 variable6 variable7  \\\n",
       "0         a      17.92   0.000054         u         g         c         v   \n",
       "1         b      16.92   0.000034         y         p         k         v   \n",
       "2         b      31.25   0.000112         u         g        ff        ff   \n",
       "3         a      48.17   0.000133         u         g         i         o   \n",
       "4         b      32.33   0.000350         u         g         k         v   \n",
       "\n",
       "   variable8 variable9 variable10  variable11 variable12 variable13  \\\n",
       "0      1.750         f          t           1          t          g   \n",
       "1      0.290         f          f           0          f          s   \n",
       "2      0.000         f          t           1          f          g   \n",
       "3      0.335         f          f           0          f          g   \n",
       "4      0.500         f          f           0          t          g   \n",
       "\n",
       "   variable14  variable15  variable17 variable18  variable19 classLabel  \n",
       "0        80.0           5    800000.0          t           0        no.  \n",
       "1       200.0           0   2000000.0        NaN           0        no.  \n",
       "2        96.0          19    960000.0          t           0        no.  \n",
       "3         0.0         120         0.0        NaN           0        no.  \n",
       "4       232.0           0   2320000.0          f           0        no.  "
      ]
     },
     "execution_count": 7,
     "metadata": {},
     "output_type": "execute_result"
    }
   ],
   "source": [
    "# Reading the training and validation data set\n",
    "data = pd.read_excel('training.xlsx')\n",
    "valid = pd.read_excel('validation.xlsx')\n",
    "# display the training data set\n",
    "data.head()"
   ]
  },
  {
   "cell_type": "code",
   "execution_count": 76,
   "metadata": {},
   "outputs": [
    {
     "name": "stdout",
     "output_type": "stream",
     "text": [
      "Index(['variable1', 'variable2', 'variable3', 'variable4', 'variable5',\n",
      "       'variable6', 'variable7', 'variable8', 'variable9', 'variable10',\n",
      "       'variable11', 'variable12', 'variable13', 'variable14', 'variable15',\n",
      "       'variable17', 'variable18', 'variable19', 'classLabel'],\n",
      "      dtype='object')\n"
     ]
    }
   ],
   "source": [
    "#print the columns names we are going to use later\n",
    "print(data.columns)"
   ]
  },
  {
   "cell_type": "code",
   "execution_count": 80,
   "metadata": {
    "scrolled": true
   },
   "outputs": [
    {
     "name": "stdout",
     "output_type": "stream",
     "text": [
      "(3700, 19)\n",
      "         variable2    variable3     variable8   variable11   variable14  \\\n",
      "count  3661.000000  3700.000000   3700.000000  3700.000000  3600.000000   \n",
      "mean     32.820713     0.000585    607.676546     4.160000   162.695000   \n",
      "std      12.666181     0.000540   1955.270061     6.750553   156.045682   \n",
      "min      13.750000     0.000000      0.000000     0.000000     0.000000   \n",
      "25%      23.000000     0.000150      0.500000     0.000000     0.000000   \n",
      "50%      28.670000     0.000425      2.250000     2.000000   120.000000   \n",
      "75%      40.830000     0.000963      7.500000     6.000000   280.000000   \n",
      "max      80.250000     0.002800  14415.000000    67.000000  1160.000000   \n",
      "\n",
      "          variable15    variable17   variable19  \n",
      "count    3700.000000  3.600000e+03  3700.000000  \n",
      "mean     2246.705946  1.626950e+06     0.925405  \n",
      "std      8708.571126  1.560457e+06     0.262772  \n",
      "min         0.000000  0.000000e+00     0.000000  \n",
      "25%         0.000000  0.000000e+00     1.000000  \n",
      "50%       113.000000  1.200000e+06     1.000000  \n",
      "75%      1059.750000  2.800000e+06     1.000000  \n",
      "max    100000.000000  1.160000e+07     1.000000  \n"
     ]
    }
   ],
   "source": [
    "print(data.shape) # to know the number of variables and data, so we can track the code later\n",
    "print(data.describe()) # in order to give us a look on the nature of the dataset"
   ]
  },
  {
   "cell_type": "code",
   "execution_count": 83,
   "metadata": {},
   "outputs": [
    {
     "data": {
      "image/png": "[encoded data removed]",
      "text/plain": [
       "<Figure size 1080x1080 with 9 Axes>"
      ]
     },
     "metadata": {
      "needs_background": "light"
     },
     "output_type": "display_data"
    }
   ],
   "source": [
    "# for more visual reprsentation of the data by histograms\n",
    "data.hist(figsize = (15, 15))\n",
    "plt.show()"
   ]
  },
  {
   "cell_type": "markdown",
   "metadata": {},
   "source": [
    "As represented in the following most variables has almost zero relationship\n",
    "however, variable3 has strong inversely propotion with varible14 and 17\n",
    "and variable 3 and 11 has directly propotion"
   ]
  },
  {
   "cell_type": "code",
   "execution_count": 84,
   "metadata": {},
   "outputs": [
    {
     "data": {
      "image/png": "[encoded data removed]",
      "text/plain": [
       "<Figure size 864x648 with 2 Axes>"
      ]
     },
     "metadata": {
      "needs_background": "light"
     },
     "output_type": "display_data"
    }
   ],
   "source": [
    "#Corelation Matrix to see the corelation between variables with each other\n",
    "# Also to understand the nature of the dataset\n",
    "corrmat = data.corr()\n",
    "fig = plt.figure(figsize = (12, 9))\n",
    "\n",
    "sns.heatmap(corrmat, vmax = .8, square = True)\n",
    "plt.show()"
   ]
  },
  {
   "cell_type": "code",
   "execution_count": 85,
   "metadata": {},
   "outputs": [
    {
     "data": {
      "text/plain": [
       "yes.    3424\n",
       "no.      276\n",
       "Name: classLabel, dtype: int64"
      ]
     },
     "execution_count": 85,
     "metadata": {},
     "output_type": "execute_result"
    }
   ],
   "source": [
    "#to know the number of classes\n",
    "data['classLabel'].value_counts()"
   ]
  },
  {
   "cell_type": "code",
   "execution_count": 86,
   "metadata": {},
   "outputs": [
    {
     "name": "stdout",
     "output_type": "stream",
     "text": [
      "0.08060747663551401\n"
     ]
    }
   ],
   "source": [
    "# creat two classes\n",
    "yes = data[data['classLabel'] == 'yes.']\n",
    "no = data[data['classLabel'] == 'no.']\n",
    "\n",
    "# to know ratio between classes\n",
    "outlier_fraction = len(no)/float(len(yes))\n",
    "print(outlier_fraction)\n"
   ]
  },
  {
   "cell_type": "code",
   "execution_count": 9,
   "metadata": {},
   "outputs": [
    {
     "data": {
      "text/plain": [
       "variable1      object\n",
       "variable2     float64\n",
       "variable3     float64\n",
       "variable4      object\n",
       "variable5      object\n",
       "variable6      object\n",
       "variable7      object\n",
       "variable8     float64\n",
       "variable9      object\n",
       "variable10     object\n",
       "variable11      int64\n",
       "variable12     object\n",
       "variable13     object\n",
       "variable14    float64\n",
       "variable15      int64\n",
       "variable17    float64\n",
       "variable18     object\n",
       "variable19      int64\n",
       "classLabel     object\n",
       "dtype: object"
      ]
     },
     "execution_count": 9,
     "metadata": {},
     "output_type": "execute_result"
    }
   ],
   "source": [
    "# to know the data type of each varriable in the dataset\n",
    "data.dtypes\n"
   ]
  },
  {
   "cell_type": "markdown",
   "metadata": {},
   "source": [
    "As you can see here, there are an object data type, so we need to convert them into float so mathmatical operations can be applied"
   ]
  },
  {
   "cell_type": "code",
   "execution_count": 13,
   "metadata": {},
   "outputs": [
    {
     "data": {
      "text/plain": [
       "variable1     float64\n",
       "variable2     float64\n",
       "variable3     float64\n",
       "variable4     float64\n",
       "variable5     float64\n",
       "variable6     float64\n",
       "variable7     float64\n",
       "variable8     float64\n",
       "variable9     float64\n",
       "variable10    float64\n",
       "variable11      int64\n",
       "variable12    float64\n",
       "variable13    float64\n",
       "variable14    float64\n",
       "variable15      int64\n",
       "variable17    float64\n",
       "variable18    float64\n",
       "variable19      int64\n",
       "classLabel    float64\n",
       "dtype: object"
      ]
     },
     "execution_count": 13,
     "metadata": {},
     "output_type": "execute_result"
    }
   ],
   "source": [
    "# to convert the data types of both datasets of training and validation\n",
    "for column_name in data.columns:\n",
    "    if data[column_name].dtype == object:\n",
    "        data[column_name]=data[pd.to_numeric(data[column_name], errors = 'coerce').notnull()]\n",
    "        data[column_name]=data[column_name].astype('float')\n",
    "    else:\n",
    "            pass\n",
    "for column_name in valid.columns:\n",
    "    if valid[column_name].dtype == object:\n",
    "        valid[column_name]=valid[pd.to_numeric(valid[column_name], errors = 'coerce').notnull()]\n",
    "        valid[column_name]=valid[column_name].astype('float')\n",
    "    else:\n",
    "            pass\n",
    "# to show data type after conversion        \n",
    "valid.dtypes\n"
   ]
  },
  {
   "cell_type": "code",
   "execution_count": 14,
   "metadata": {},
   "outputs": [],
   "source": [
    "# the following two lines to put zero instead of any missing data\n",
    "data= data.fillna(0)\n",
    "valid= valid.fillna(0)\n",
    "\n",
    "# set up the independant varible of training\n",
    "indep_train=data[['variable1', 'variable2', 'variable3', 'variable4', 'variable5',\n",
    "       'variable6', 'variable7', 'variable8', 'variable9', 'variable10',\n",
    "       'variable11', 'variable12', 'variable13', 'variable14', 'variable15',\n",
    "       'variable17', 'variable18', 'variable19']]\n",
    "xtrain= np.asarray(indep_train)\n",
    "\n",
    "# set up the dependant varible of training\n",
    "ytrain = np.asarray(data['classLabel'])\n",
    "\n",
    "# set up the independant varible of validation\n",
    "indep_t = valid[['variable1', 'variable2', 'variable3', 'variable4', 'variable5',\n",
    "       'variable6', 'variable7', 'variable8', 'variable9', 'variable10',\n",
    "       'variable11', 'variable12', 'variable13', 'variable14', 'variable15',\n",
    "       'variable17', 'variable18', 'variable19']]\n",
    "xtest= np.asarray(indep_t)\n",
    "# set up the dependant varible of validation\n",
    "ytest = np.asarray(valid['classLabel'])"
   ]
  },
  {
   "cell_type": "markdown",
   "metadata": {},
   "source": [
    "The next graph shows the expected values and true values meet at zero. Almost no difference."
   ]
  },
  {
   "cell_type": "code",
   "execution_count": 15,
   "metadata": {
    "scrolled": false
   },
   "outputs": [
    {
     "data": {
      "image/png": "[encoded data removed]",
      "text/plain": [
       "<Figure size 432x288 with 1 Axes>"
      ]
     },
     "metadata": {
      "needs_background": "light"
     },
     "output_type": "display_data"
    }
   ],
   "source": [
    "#training on the datasets\n",
    "model=lm().fit(xtrain,ytrain)\n",
    "\n",
    "#to make a prediction\n",
    "predictions=model.predict(xtest)\n",
    "\n",
    "#to graph the difference between the true values from the validation set and the predicted values\n",
    "plt.scatter(ytest,predictions)\n",
    "plt.xlabel('True values')\n",
    "plt.ylabel('Predictions')\n",
    "plt.show()\n",
    "\n"
   ]
  },
  {
   "cell_type": "code",
   "execution_count": null,
   "metadata": {},
   "outputs": [],
   "source": []
  }
 ],
 "metadata": {
  "kernelspec": {
   "display_name": "Python 3",
   "language": "python",
   "name": "python3"
  },
  "language_info": {
   "codemirror_mode": {
    "name": "ipython",
    "version": 3
   },
   "file_extension": ".py",
   "mimetype": "text/x-python",
   "name": "python",
   "nbconvert_exporter": "python",
   "pygments_lexer": "ipython3",
   "version": "3.7.1"
  }
 },
 "nbformat": 4,
 "nbformat_minor": 2
}
